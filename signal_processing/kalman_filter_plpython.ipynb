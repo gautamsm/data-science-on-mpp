{
 "cells": [
  {
   "cell_type": "markdown",
   "metadata": {},
   "source": [
    "## Setup database connectivity"
   ]
  },
  {
   "cell_type": "markdown",
   "metadata": {},
   "source": [
    "We'll reuse our module from the previous notebook (***`database_connectivity_setup.ipynb`***) to establish connectivity to the database"
   ]
  },
  {
   "cell_type": "code",
   "execution_count": 5,
   "metadata": {
    "collapsed": false
   },
   "outputs": [],
   "source": [
    "%run 'database_connectivity_setup.ipynb'"
   ]
  },
  {
   "cell_type": "markdown",
   "metadata": {},
   "source": [
    "Your connection object is ***`conn`***:\n",
    "1. Queries: You can run your queries using ***```psql.read_sql(\"\"\"<YOUR SQL>\"\"\", conn)```***.\n",
    "2. Create/Delete/Updates: You can run these statements using ***```psql.execute(\"\"\"<YOUR SQL>\"\"\", conn)```***, followed by a ***```conn.commit()```*** command to ensure your transaction is committed. Otherwise your changes will be rolledback if you terminate your kernel.\n",
    "\n",
    "If you created a new connection object (say to connect to a new cluster) as shown in the last section of `00_database_connectivity_setup.ipynb` notebook, use that connection object where needed."
   ]
  },
  {
   "cell_type": "markdown",
   "metadata": {
    "collapsed": true
   },
   "source": [
    "#### Import the Necessary Python Packages"
   ]
  },
  {
   "cell_type": "code",
   "execution_count": 6,
   "metadata": {
    "collapsed": false
   },
   "outputs": [],
   "source": [
    "%matplotlib inline\n",
    "import numpy as np\n",
    "import seaborn as sns\n",
    "from matplotlib import pyplot as plt\n",
    "from PIL import Image"
   ]
  },
  {
   "cell_type": "markdown",
   "metadata": {},
   "source": [
    "#### Example sensor data creation: we will assume that we have an object that has a linear motion in both x and y coordinates of the catersian space and that we have a sensor that measures the 2-D location (x,y) of the object. Further, we will assume that the sensor measurements are corrupted by additive white Gaussian noise. An example of the sensor measurements for 100 time points (time point 0 is the start of the motion) is shown below."
   ]
  },
  {
   "cell_type": "code",
   "execution_count": 8,
   "metadata": {
    "collapsed": false
   },
   "outputs": [
    {
     "data": {
      "image/png": "[encoded data removed]",
      "text/plain": [
       "<matplotlib.figure.Figure at 0x102fb2c10>"
      ]
     },
     "metadata": {},
     "output_type": "display_data"
    }
   ],
   "source": [
    "sensor1_times = np.arange(0,100)\n",
    "sigma = round(5 + 5*np.random.uniform(0,1,1)) # pick a std. deviation for the noise in range [5,10]\n",
    "sensor1_x = np.arange(0,100) + np.random.normal(0,sigma,100)\n",
    "sensor1_y = np.arange(0,100) + np.random.normal(0,sigma,100)\n",
    "sns.regplot(sensor1_x,sensor1_y,color='r')\n",
    "plt.show()"
   ]
  },
  {
   "cell_type": "markdown",
   "metadata": {},
   "source": [
    "#### We will now create the sensor input table for the Kalman filter in our MPP database (Greenplum or HAWQ)"
   ]
  },
  {
   "cell_type": "code",
   "execution_count": 9,
   "metadata": {
    "collapsed": false
   },
   "outputs": [],
   "source": [
    "sql = \"\"\"\n",
    "    DROP TABLE IF EXISTS iot.plpy_kalman_input_one_sensor;\n",
    "\"\"\"\n",
    "psql.execute(sql,conn)\n",
    "\n",
    "sql = \"\"\"\n",
    "    CREATE TABLE iot.plpy_kalman_input_one_sensor (        \n",
    "        run_number int,\n",
    "        sensor1_times float8[],\n",
    "        sensor1_x float8[],\n",
    "        sensor1_y float8[]\n",
    "    ) DISTRIBUTED BY (run_number);\n",
    "\"\"\"\n",
    "psql.execute(sql,conn)\n",
    "conn.commit()"
   ]
  },
  {
   "cell_type": "markdown",
   "metadata": {},
   "source": [
    "#### Insert 50 rows into the Kalman filter input table with each row comprising the time points and the corresponding x and y coordinates of an object measured by a sesnor."
   ]
  },
  {
   "cell_type": "code",
   "execution_count": 10,
   "metadata": {
    "collapsed": false
   },
   "outputs": [],
   "source": [
    "for i in np.arange(1,51):\n",
    "    sensor1_times = np.arange(0,100)\n",
    "    sigma = round(5+5*np.random.uniform(0,1,1))\n",
    "    sensor1_x = np.arange(0,100) + np.random.normal(0,sigma,100)\n",
    "    sensor1_y = np.arange(0,100) + np.random.normal(0,sigma,100)\n",
    "    sql = \"\"\"\n",
    "        INSERT INTO iot.plpy_kalman_input_one_sensor VALUES (\n",
    "            {run_number},\n",
    "            array{s1_times},\n",
    "            array{s1_x},\n",
    "            array{s1_y}\n",
    "        );\n",
    "    \"\"\".format(\n",
    "            run_number=str(i),\n",
    "            s1_times = str(sensor1_times.tolist()),\n",
    "            s1_x = str(sensor1_x.tolist()),\n",
    "            s1_y = str(sensor1_y.tolist())\n",
    "        )\n",
    "    psql.execute(sql,conn)\n",
    "conn.commit()"
   ]
  },
  {
   "cell_type": "markdown",
   "metadata": {},
   "source": [
    "#### We will now create the PL/Python User Defined Function for the Kalman Filter in our MPP Database (Greenplum or HAWQ)"
   ]
  },
  {
   "cell_type": "code",
   "execution_count": 11,
   "metadata": {
    "collapsed": false
   },
   "outputs": [],
   "source": [
    "# First create a user defined type that is used to return the results of the Kalman filter \n",
    "sql = \"\"\"\n",
    "    DROP TYPE IF EXISTS iot.kalman_filter_return_type CASCADE;\n",
    "\"\"\"\n",
    "psql.execute(sql,conn)\n",
    "\n",
    "sql = \"\"\"\n",
    "    CREATE TYPE iot.kalman_filter_return_type AS (\n",
    "        ts float8,\n",
    "        x float8,\n",
    "        y float8\n",
    "    );\n",
    "\"\"\"\n",
    "psql.execute(sql,conn)\n",
    "\n",
    "sql = \"\"\"\n",
    "    DROP FUNCTION IF EXISTS iot.plpy_kalmanfilter(\n",
    "        float8[], \n",
    "        float8[], \n",
    "        float8[]\n",
    "    );\n",
    "\"\"\"\n",
    "psql.execute(sql,conn)\n",
    "\n",
    "sql = \"\"\"\n",
    "    CREATE or REPLACE FUNCTION iot.plpy_kalmanfilter(\n",
    "        sensor_times float8[], \n",
    "        sensor_x float8[], \n",
    "        sensor_y float8[]\n",
    "    )\n",
    "    RETURNS SETOF iot.kalman_filter_return_type\n",
    "    AS $$\n",
    "        import numpy as np\n",
    "        from numpy import ma\n",
    "        from pykalman import KalmanFilter\n",
    "        t1 = np.asarray(sensor_times,dtype=int)\n",
    "        min_time = np.amin(t1)\n",
    "        max_time = np.amax(t1)\n",
    "        init_x = float(np.asarray(sensor_x)[t1==min_time][0])\n",
    "        init_y = float(np.asarray(sensor_y)[t1==min_time][0])\n",
    "        resampled_times = np.arange(0,max_time+1)\n",
    "        resampled_x = ma.array([ma.masked]*(len(resampled_times)))\n",
    "        resampled_y = ma.array([ma.masked]*(len(resampled_times)))\n",
    "        resampled_x[t1] = sensor_x\n",
    "        resampled_y[t1] = sensor_y\n",
    "        t1_mask = np.asarray(list(set(resampled_times).difference(set(t1))))\n",
    "        if (len(t1_mask) != 0):\n",
    "            resampled_x[t1_mask] = ma.masked\n",
    "            resampled_y[t1_mask] = ma.masked\n",
    "        measurements = ma.vstack((resampled_x,resampled_y)).transpose()\n",
    "        kf = KalmanFilter(transition_matrices = [[1, 0, 1, 0], [0, 1, 0, 1], [0, 0, 1, 0], [0, 0, 0, 1]], \n",
    "                observation_matrices = [[1, 0, 0, 0], [0, 1, 0, 0]],\n",
    "                initial_state_mean = [init_x, init_y, 0.001, 0.001], \n",
    "                em_vars = [\n",
    "                    'transition_offsets',\n",
    "                    'observation_offsets',\n",
    "                    'transition_covariance', \n",
    "                    'observation_covariance',\n",
    "                    'initial_state_covariance'\n",
    "                ]\n",
    "             )\n",
    "        kf = kf.em(measurements, n_iter=10)\n",
    "        (filtered_state_means, filtered_state_covariances) = kf.smooth(measurements)\n",
    "        est_state_means = list()\n",
    "        for i in np.arange(0,len(resampled_times)):\n",
    "            est_state_means.append([resampled_times[i]] + filtered_state_means[i,0:2].tolist())\n",
    "        return np.array(est_state_means)\n",
    "$$ LANGUAGE plpythonu;\n",
    "\"\"\"\n",
    "psql.execute(sql,conn)\n",
    "conn.commit()"
   ]
  },
  {
   "cell_type": "markdown",
   "metadata": {},
   "source": [
    "#### We will now call our PL/Python Kalman filter User Defined Function on the input table we created."
   ]
  },
  {
   "cell_type": "code",
   "execution_count": 12,
   "metadata": {
    "collapsed": false
   },
   "outputs": [],
   "source": [
    "sql = \"\"\"DROP TABLE IF EXISTS iot.plpy_kalman_output_one_sensor;\"\"\"\n",
    "psql.execute(sql,conn)\n",
    "\n",
    "sql = \"\"\"\n",
    "        CREATE TABLE iot.plpy_kalman_output_one_sensor as (\n",
    "            SELECT \n",
    "                run_number,\n",
    "                (\n",
    "                    iot.plpy_kalmanfilter(\n",
    "                        sensor1_times, \n",
    "                        sensor1_x, \n",
    "                        sensor1_y \n",
    "                    )\n",
    "                ).*\n",
    "            FROM\n",
    "                iot.plpy_kalman_input_one_sensor\n",
    "        ) DISTRIBUTED BY (run_number);\n",
    "\"\"\"\n",
    "psql.execute(sql,conn)\n",
    "conn.commit()"
   ]
  },
  {
   "cell_type": "markdown",
   "metadata": {},
   "source": [
    "#### Let us now visualize the Kalman ffilter results."
   ]
  },
  {
   "cell_type": "code",
   "execution_count": 13,
   "metadata": {
    "collapsed": false
   },
   "outputs": [
    {
     "data": {
      "image/png": "[encoded data removed]",
      "text/plain": [
       "<matplotlib.figure.Figure at 0x10d532210>"
      ]
     },
     "metadata": {},
     "output_type": "display_data"
    }
   ],
   "source": [
    "sql = \"\"\"\n",
    "        SELECT\n",
    "           sensor1_x,\n",
    "           sensor1_y\n",
    "        FROM\n",
    "           iot.plpy_kalman_input_one_sensor\n",
    "        WHERE run_number = 1;\n",
    "\"\"\"\n",
    "df = psql.read_sql(sql, conn)\n",
    "\n",
    "x = np.array(df.loc[0]['sensor1_x'])\n",
    "y = np.array(df.loc[0]['sensor1_y'])\n",
    "\n",
    "p1 = plt.scatter(x,y,color='r')\n",
    "\n",
    "sql = \"\"\"\n",
    "        SELECT\n",
    "            run_number,\n",
    "            array_agg(x) as sensor1_x,\n",
    "            array_agg(y) as sensor1_y\n",
    "        FROM\n",
    "            iot.plpy_kalman_output_one_sensor\n",
    "        WHERE run_number = 1\n",
    "        GROUP BY 1;\n",
    "\"\"\"\n",
    "df = psql.read_sql(sql, conn)\n",
    "\n",
    "x_kf = np.array(df.loc[0]['sensor1_x'])\n",
    "y_kf = np.array(df.loc[0]['sensor1_y'])\n",
    "\n",
    "p2 = plt.scatter(x_kf,y_kf,color='g')\n",
    "plt.legend((p1,p2), ('Sensor input', 'Kalman output'), loc = 'lower right')\n",
    "plt.show()"
   ]
  },
  {
   "cell_type": "code",
   "execution_count": 14,
   "metadata": {
    "collapsed": true
   },
   "outputs": [],
   "source": [
    "conn.close()"
   ]
  }
 ],
 "metadata": {
  "kernelspec": {
   "display_name": "Python 2",
   "language": "python",
   "name": "python2"
  },
  "language_info": {
   "codemirror_mode": {
    "name": "ipython",
    "version": 2
   },
   "file_extension": ".py",
   "mimetype": "text/x-python",
   "name": "python",
   "nbconvert_exporter": "python",
   "pygments_lexer": "ipython2",
   "version": "2.7.10"
  }
 },
 "nbformat": 4,
 "nbformat_minor": 0
}
